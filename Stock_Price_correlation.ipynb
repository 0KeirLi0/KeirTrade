{
  "nbformat": 4,
  "nbformat_minor": 0,
  "metadata": {
    "colab": {
      "provenance": [],
      "authorship_tag": "ABX9TyPjhAND3/WZl191B2waWJq0",
      "include_colab_link": true
    },
    "kernelspec": {
      "name": "python3",
      "display_name": "Python 3"
    },
    "language_info": {
      "name": "python"
    }
  },
  "cells": [
    {
      "cell_type": "markdown",
      "metadata": {
        "id": "view-in-github",
        "colab_type": "text"
      },
      "source": [
        "<a href=\"https://colab.research.google.com/github/0KeirLi0/KeirTrade/blob/main/Stock_Price_correlation.ipynb\" target=\"_parent\"><img src=\"https://colab.research.google.com/assets/colab-badge.svg\" alt=\"Open In Colab\"/></a>"
      ]
    },
    {
      "cell_type": "code",
      "execution_count": null,
      "metadata": {
        "id": "kVUHlFSGhy-2"
      },
      "outputs": [],
      "source": [
        "!pip install yfinance\n",
        "!pip install matplotlib\n",
        "!pip install seaborn\n",
        "\n",
        "import yfinance as yf\n",
        "from datetime import datetime\n",
        "import matplotlib.pyplot as plt\n",
        "import seaborn as sn\n",
        "\n",
        "now = datetime.now()\n",
        "start = datetime(now.year-1, now.month, now.day, now.hour)\n",
        "number = int(input(\"Number of Stock: \"))\n",
        "tickers = []\n",
        "for x in range (number):\n",
        "    tickers.append(input(\"Stock symbol: \"))\n",
        "portfolio = yf.download(tickers, start, now)\n",
        "\n",
        "corrMatrix = portfolio[\"Close\"].pct_change().corr()\n",
        "sn.heatmap(corrMatrix, annot=True)\n",
        "plt.show()"
      ]
    }
  ]
}